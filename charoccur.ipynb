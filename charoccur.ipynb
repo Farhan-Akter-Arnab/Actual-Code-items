{
 "cells": [
  {
   "cell_type": "code",
   "execution_count": null,
   "id": "54de017b-04b7-42b4-9113-6be87139b1c5",
   "metadata": {},
   "outputs": [
    {
     "name": "stdout",
     "output_type": "stream",
     "text": [
      "Your word was =  alan walker\n",
      "The total number of times  a  has occurred =  3\n"
     ]
    }
   ],
   "source": [
    "string = input(\"Please enter your own word: \")\n",
    "char = input(\"Please enter your own character: \")\n",
    "i = 0\n",
    "count = 0\n",
    "while (i < len(string)):\n",
    "    if (string[i] == char):\n",
    "        count = count + 1\n",
    "    i = i + 1\n",
    "print(\"Your word was = \", string)\n",
    "print(\"The total number of times \", char, \" has occurred = \", count)"
   ]
  }
 ],
 "metadata": {
  "kernelspec": {
   "display_name": "Python 3",
   "language": "python",
   "name": "python3"
  },
  "language_info": {
   "codemirror_mode": {
    "name": "ipython",
    "version": 3
   },
   "file_extension": ".py",
   "mimetype": "text/x-python",
   "name": "python",
   "nbconvert_exporter": "python",
   "pygments_lexer": "ipython3",
   "version": "3.13.0"
  }
 },
 "nbformat": 4,
 "nbformat_minor": 2
}
